{
 "cells": [
  {
   "cell_type": "code",
   "execution_count": null,
   "metadata": {},
   "outputs": [],
   "source": [
    "import os\n",
    "from dotenv import load_dotenv\n",
    "\n",
    "import pandas as pd\n",
    "import numpy as np\n",
    "\n",
    "from src.datamodules.datasets.civilcomments import CivilCommentsExtracted\n",
    "from src.datamodules.datasets.civilcomments import CivilCommentsDataset\n",
    "\n",
    "load_dotenv()\n",
    "DATA_DIR = os.getenv(\"DATA_ROOT_DIR\")\n",
    "\n",
    "spurious_feature_idx = 6"
   ]
  },
  {
   "cell_type": "code",
   "execution_count": null,
   "metadata": {},
   "outputs": [],
   "source": [
    "import numpy as np\n",
    "from collections import Counter\n",
    "\n",
    "def downsample(X, y, group):\n",
    "    unique_groups, counts = np.unique(group, return_counts=True)\n",
    "    min_count = min(counts)\n",
    "    \n",
    "    indices = []\n",
    "    for g in unique_groups:\n",
    "        group_indices = np.where(group == g)[0]\n",
    "        sampled_indices = np.random.choice(group_indices, min_count, replace=False)\n",
    "        indices.extend(sampled_indices)\n",
    "    \n",
    "    indices = np.array(indices)\n",
    "    return X[indices], y[indices], group[indices]"
   ]
  },
  {
   "cell_type": "code",
   "execution_count": null,
   "metadata": {},
   "outputs": [],
   "source": [
    "import numpy as np\n",
    "\n",
    "data = CivilCommentsExtracted(\n",
    "    root_dir=DATA_DIR,\n",
    "    encoding_extractor=\"bert\"\n",
    ")\n",
    "\n",
    "not_extracted_data = CivilCommentsDataset(root_dir=DATA_DIR)\n",
    "print(not_extracted_data._metadata_fields) # Check metadata fields\n",
    "\n",
    "metadata = not_extracted_data.metadata_array\n",
    "\n",
    "metadata_train = metadata[not_extracted_data.split_array == 0].numpy()\n",
    "metadata_test = metadata[not_extracted_data.split_array == 2].numpy()\n",
    "\n",
    "\n",
    "train_split = data.get_subset(\"train\")\n",
    "\n",
    "x_train = train_split[np.arange(len(train_split))][0]\n",
    "y_train = metadata_train[:, -2] \n",
    "c_train = metadata_train[:, spurious_feature_idx]\n",
    "\n",
    "\n",
    "test_split = data.get_subset(\"test\")\n",
    "\n",
    "x_test = test_split[np.arange(len(test_split))][0]\n",
    "y_test = metadata_test[:, -2]\n",
    "c_test = metadata_test[:, spurious_feature_idx]"
   ]
  },
  {
   "cell_type": "code",
   "execution_count": null,
   "metadata": {},
   "outputs": [],
   "source": [
    "X_balaned, y_balanced, groups_balanced = downsample(x_train, y_train, 2*y_train + c_train)\n",
    "\n",
    "from sklearn.linear_model import LogisticRegression\n",
    "model = LogisticRegression(max_iter=10000).fit(X_balaned, y_balanced)\n",
    "\n",
    "model.score()"
   ]
  },
  {
   "cell_type": "code",
   "execution_count": null,
   "metadata": {},
   "outputs": [],
   "source": [
    "# Calculate WGA for each spurious feature\n",
    "\n",
    "for i in range(15):\n",
    "    curr_feature = metadata_test[:, i]\n",
    "    groups = 2 * y_test + curr_feature\n",
    "\n",
    "    group_acc = []\n",
    "\n",
    "    for g in np.unique(groups):\n",
    "        mask = groups == g\n",
    "\n",
    "        score = model.score(x_test[mask], y_test[mask])\n",
    "\n",
    "        group_acc.append(score)\n",
    "\n",
    "    print(f\"{i}: worst {min(group_acc) * 100:.2f}, best: {max(group_acc) * 100:.2f}\")\n",
    "    print(f\"\\t min_group_size = {min(np.unique(groups, return_counts=True)[1])}\\n\")\n",
    "\n",
    "print(\"Label:\", model.score(x_test, y_test))"
   ]
  },
  {
   "cell_type": "code",
   "execution_count": null,
   "metadata": {},
   "outputs": [],
   "source": [
    "# Calculate correlations label-feature\n",
    "\n",
    "for i in range(15):\n",
    "    print(f\"{i}: {np.corrcoef(metadata_train[:, i], y_train)[0, 1]:.4f}\", )"
   ]
  }
 ],
 "metadata": {
  "kernelspec": {
   "display_name": "incontext_spurious",
   "language": "python",
   "name": "python3"
  },
  "language_info": {
   "codemirror_mode": {
    "name": "ipython",
    "version": 3
   },
   "file_extension": ".py",
   "mimetype": "text/x-python",
   "name": "python",
   "nbconvert_exporter": "python",
   "pygments_lexer": "ipython3",
   "version": "3.10.13"
  }
 },
 "nbformat": 4,
 "nbformat_minor": 2
}
