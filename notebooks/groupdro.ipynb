{
 "cells": [
  {
   "cell_type": "code",
   "execution_count": null,
   "id": "1613094b-a183-400d-889f-32d20adf71ab",
   "metadata": {},
   "outputs": [],
   "source": [
    "import os\n",
    "import hydra\n",
    "import torch\n",
    "import torch.nn as nn\n",
    "import torchmetrics\n",
    "\n",
    "from hydra.utils import instantiate\n",
    "from dotenv import load_dotenv\n",
    "from tqdm.notebook import tqdm\n",
    "\n",
    "load_dotenv()\n",
    "os.chdir('../')\n",
    "\n",
    "from src.utils.custom_metrics import MinorityMajorityAccuracy"
   ]
  },
  {
   "cell_type": "code",
   "execution_count": null,
   "id": "6176614e-9077-4c91-a04e-0f8b31530174",
   "metadata": {},
   "outputs": [],
   "source": [
    "def train_and_pred_groupdro_classifier(x_train, y_train, groups, x_test, n_epochs=1000, lr=0.01, group_weight_step=0.01, device='cpu'):\n",
    "    # Move inputs and model to the specified device\n",
    "    x_train, y_train, groups, x_test = x_train.to(device), y_train.to(device), groups.to(device), x_test.to(device)\n",
    "    \n",
    "    n_groups = groups.max().item() + 1\n",
    "    \n",
    "    # Define the linear model and move it to the device\n",
    "    model = nn.Linear(x_train.shape[1], 1).to(device)\n",
    "\n",
    "    # Loss and optimizer\n",
    "    criterion = nn.BCEWithLogitsLoss(reduction='none')\n",
    "    optimizer = torch.optim.SGD(model.parameters(), lr=lr)\n",
    "\n",
    "    # Initialize group weights and move them to the device\n",
    "    group_weights = torch.ones(n_groups, dtype=torch.float32, device=device) / n_groups\n",
    "\n",
    "    # Training loop\n",
    "    for _ in range(n_epochs):  # Number of epochs\n",
    "        model.train()\n",
    "        optimizer.zero_grad()\n",
    "\n",
    "        # Forward pass\n",
    "        outputs = model(x_train)\n",
    "        losses = criterion(outputs, y_train.unsqueeze(1).float())\n",
    "        \n",
    "        # Calculate loss per group\n",
    "        group_losses = torch.zeros(n_groups, device=device)\n",
    "        for group in range(n_groups):\n",
    "            group_mask = (groups == group)\n",
    "            if group_mask.any():\n",
    "                group_losses[group] = (losses * group_mask.float()).sum() / group_mask.float().sum()\n",
    "\n",
    "        # Update group weights\n",
    "        group_weights = group_weights * torch.exp(group_weight_step * group_losses)\n",
    "        group_weights = group_weights / group_weights.sum()\n",
    "        group_weights = group_weights.detach()\n",
    "        \n",
    "        # Weighted loss for optimization\n",
    "        weighted_loss = (group_losses * group_weights).sum()\n",
    "        weighted_loss.backward()\n",
    "        optimizer.step()\n",
    "\n",
    "    # Testing\n",
    "    model.eval()\n",
    "    with torch.no_grad():\n",
    "        test_pred = model(x_test.unsqueeze(0))\n",
    "        test_pred_label = torch.sigmoid(test_pred).round().item()  # Convert to binary label\n",
    "\n",
    "    # Check if prediction matches the test label\n",
    "    return test_pred_label"
   ]
  },
  {
   "cell_type": "code",
   "execution_count": null,
   "id": "4839c7a4-c928-43a7-955e-d52258dd7d68",
   "metadata": {},
   "outputs": [],
   "source": [
    "hydra.initialize(config_path=\"../configs\", version_base=\"1.2\")\n",
    "\n",
    "# Load the configuration as a generic dictionary\n",
    "config = hydra.compose(config_name=\"train\", overrides=[\"spurious_setting=separate_token\"])"
   ]
  },
  {
   "cell_type": "code",
   "execution_count": null,
   "id": "b048a113-22c3-4d92-ae0c-3a04fb2ffc59",
   "metadata": {},
   "outputs": [],
   "source": [
    "datamodule = instantiate(config.datamodule)"
   ]
  },
  {
   "cell_type": "code",
   "execution_count": null,
   "id": "216e7322-5291-4b28-9cd1-b010f8991fcc",
   "metadata": {},
   "outputs": [],
   "source": [
    "datamodule.setup()"
   ]
  },
  {
   "cell_type": "code",
   "execution_count": null,
   "id": "e4e95ede-d723-41c8-900e-cdebc78d4187",
   "metadata": {},
   "outputs": [],
   "source": [
    "train_on = {\n",
    "    \"x\": lambda input_seq: input_seq[:, 0::3],\n",
    "    \"c\": lambda input_seq: input_seq[:, 1::3],\n",
    "    \"xc\": lambda input_seq: torch.cat([input_seq[:, 0::3], input_seq[:, 1::3]], dim=2),\n",
    "    \"x+c\": lambda input_seq: input_seq[:, 0::3] + input_seq[:, 1::3],\n",
    "}"
   ]
  },
  {
   "cell_type": "code",
   "execution_count": null,
   "id": "efa54a0a-b288-4add-b13e-3d0ddb16d2cc",
   "metadata": {},
   "outputs": [],
   "source": [
    "device = \"cpu\"\n",
    "for mode in train_on.keys():\n",
    "    accuracy = torchmetrics.Accuracy(task=\"binary\")\n",
    "    accuracy_minority = MinorityMajorityAccuracy(group_type=\"minority\")\n",
    "    accuracy_majority = MinorityMajorityAccuracy(group_type=\"majority\")\n",
    "\n",
    "    for batch, batch_idx, dataloader_idx in datamodule.val_dataloader(): \n",
    "        if dataloader_idx != 0: # check only on inner val set\n",
    "            break\n",
    "        input_seq, spurious_labels, class_labels, _ = batch # input_seq, spurious_labels, class_labels, image_indices\n",
    "        \n",
    "        batch_data = train_on[mode](input_seq) # torch.cat([input_seq[:, ::3], input_seq[:, 1::3]], dim=2)\n",
    "    \n",
    "        batch_train_x = batch_data[:, :-1]\n",
    "        batch_test_x = batch_data[:, -1]\n",
    "        \n",
    "        batch_train_y = class_labels[:, :-1]\n",
    "        batch_groups = class_labels[:, :-1] * 2 + spurious_labels[:, :-1]\n",
    "\n",
    "\n",
    "        for x_train, y_train, groups, x_test, y_test_all, c_test_all in zip(batch_train_x, batch_train_y, batch_groups, \n",
    "                                                                            batch_test_x, class_labels, spurious_labels):\n",
    "            y_test_pred = train_and_pred_groupdro_classifier(x_train, y_train, groups, x_test, n_epochs=50, group_weight_step=0.001, device=device)\n",
    "            accuracy.update(torch.tensor([y_test_pred]), torch.tensor([y_test_all[-1]]))\n",
    "            accuracy_minority.update(torch.tensor([[y_test_pred]]), y_test_all.unsqueeze(0), c_test_all.unsqueeze(0))\n",
    "            accuracy_majority.update(torch.tensor([[y_test_pred]]), y_test_all.unsqueeze(0), c_test_all.unsqueeze(0))\n",
    "\n",
    "    print(f\"'{mode}' acc={accuracy.compute()} min_acc={accuracy_minority.compute()} maj_acc={accuracy_majority.compute()}\")\n"
   ]
  }
 ],
 "metadata": {
  "kernelspec": {
   "display_name": "Python 3 (ipykernel)",
   "language": "python",
   "name": "python3"
  },
  "language_info": {
   "codemirror_mode": {
    "name": "ipython",
    "version": 3
   },
   "file_extension": ".py",
   "mimetype": "text/x-python",
   "name": "python",
   "nbconvert_exporter": "python",
   "pygments_lexer": "ipython3",
   "version": "3.10.13"
  }
 },
 "nbformat": 4,
 "nbformat_minor": 5
}
